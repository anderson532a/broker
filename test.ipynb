{
 "metadata": {
  "language_info": {
   "codemirror_mode": {
    "name": "ipython",
    "version": 3
   },
   "file_extension": ".py",
   "mimetype": "text/x-python",
   "name": "python",
   "nbconvert_exporter": "python",
   "pygments_lexer": "ipython3",
   "version": "3.8.5-final"
  },
  "orig_nbformat": 2,
  "kernelspec": {
   "name": "Python 3.8.5 32-bit ('env')",
   "display_name": "Python 3.8.5 32-bit ('env')",
   "metadata": {
    "interpreter": {
     "hash": "51320aac29360921745e54246e16a0ef501f9c8fbfcf0178a0c1015906c54a80"
    }
   }
  }
 },
 "nbformat": 4,
 "nbformat_minor": 2,
 "cells": [
  {
   "cell_type": "code",
   "execution_count": null,
   "metadata": {
    "tags": []
   },
   "outputs": [],
   "source": [
    "import logging\n",
    "import datetime\n",
    "FORMA = \"%(asctime)s -%(levelname)s %(funcName)s:%(message)s\"\n",
    "DATE = '%Y%m%dT%H%M%S'\n",
    "logging.basicConfig(level=logging.DEBUG, format=FORMA)\n",
    "logging.debug(\"123124123\")\n",
    "logging.info(\"213113\")\n",
    "logging.warning(\"6544432\")"
   ]
  },
  {
   "cell_type": "code",
   "execution_count": null,
   "metadata": {},
   "outputs": [],
   "source": [
    "import socketserver\n",
    "import socket\n",
    "\n",
    "class Handler(socketserver.BaseRequestHandler):\n",
    "    def handle(self):\n",
    "        self.data = self.request.recv(1024).strip()\n",
    "        print('{} wrote:'.format(self.client_address[0]))\n",
    "        print(f\"{self.data}\")\n",
    "        self.request.sendall(self.data.upper())\n",
    "\n",
    "\n",
    "HOST = 'localhost'\n",
    "PORT =  9999\n",
    "server = socketserver.TCPServer((HOST, PORT), Handler)\n",
    "server.serve_forever()\n"
   ]
  },
  {
   "cell_type": "code",
   "execution_count": null,
   "metadata": {},
   "outputs": [],
   "source": [
    "import socket\n",
    "import time\n",
    "\n",
    "class client_socket:\n",
    "  def __init__(self):\n",
    "    PORT = 9999\n",
    "    self.host = socket.gethostname()\n",
    "    self.client = socket.socket(socket.AF_INET, socket.SOCK_STREAM)\n",
    "    self.client.connect((self.host, PORT))\n",
    "\n",
    "\n",
    "  def repeat(self, msg):\n",
    "    self.msg = msg\n",
    "    CLMES = f\"{self.msg}\"\n",
    "    self.client.sendall(CLMES.encode('utf-8'))\n",
    "    rece = self.client.recv(1024)\n",
    "    print(str(rece, encoding='utf-8')\n",
    "\n",
    "\n",
    "A = client_socket()\n",
    "for i in range(20):\n",
    "    A.repeat(i)\n",
    "    time.sleep(1)\n",
    "    i += 1\n",
    "    \n"
   ]
  },
  {
   "cell_type": "code",
   "execution_count": null,
   "metadata": {
    "tags": []
   },
   "outputs": [],
   "source": [
    "a = set()\n",
    "print(f\"{len(a)}\")"
   ]
  },
  {
   "cell_type": "code",
   "execution_count": null,
   "metadata": {
    "tags": []
   },
   "outputs": [],
   "source": [
    "b = ()\n",
    "c = \"R\"\n",
    "d =  (\"1234\")\n",
    "print(d, len(d), type(d))"
   ]
  },
  {
   "cell_type": "code",
   "execution_count": null,
   "metadata": {
    "tags": []
   },
   "outputs": [],
   "source": [
    "import json\n",
    "diccc = {\"q\":1, \"c\":2, \"e\":4}\n",
    "jsdumps = json.dumps(diccc)\n",
    "jsloads = json.loads(jsdumps)\n",
    "print(jsdumps , type(jsdumps))\n",
    "print(jsloads , type(jsloads))\n",
    "if 'q' and 'c' and 'e' in jsloads.keys():\n",
    "    print(True)\n",
    "print(jsloads.keys())\n"
   ]
  },
  {
   "cell_type": "code",
   "execution_count": null,
   "metadata": {
    "tags": []
   },
   "outputs": [],
   "source": [
    "from flask import jsonify\n",
    "import json\n",
    "diccc = {\"q\":1, \"c\":2, \"e\":4}\n",
    "print(json.dumps(diccc))\n",
    "print(jsonify(diccc))\n"
   ]
  },
  {
   "cell_type": "code",
   "execution_count": null,
   "metadata": {},
   "outputs": [],
   "source": [
    "  def repeat(self, msg):\n",
    "    self.msg = msg\n",
    "    CLMES = f\"{self.msg}\"\n",
    "    self.client.sendall(CLMES.encode('utf-8'))\n",
    "    rece = self.client.recv(1024)\n",
    "    print(str(rece, encoding='utf-8'))"
   ]
  },
  {
   "cell_type": "code",
   "execution_count": null,
   "metadata": {
    "tags": []
   },
   "outputs": [],
   "source": [
    "server_ip = (\"192.168.43.196\",)\n",
    "server_status = {server_ip[0]:False}\n",
    "print(type(server_ip),type(server_status))\n",
    "print(server_status[\"192.168.43.196\"])"
   ]
  },
  {
   "cell_type": "code",
   "execution_count": null,
   "metadata": {
    "tags": []
   },
   "outputs": [],
   "source": [
    "server_ip = (\"192.168.43.196\", \"123\", \"45356\")\n",
    "for i in server_ip:\n",
    "\n",
    "    print(i)"
   ]
  },
  {
   "cell_type": "code",
   "execution_count": null,
   "metadata": {
    "tags": []
   },
   "outputs": [],
   "source": [
    "# list all built-in keywords\n",
    "import keyword\n",
    "print(keyword.kwlist)\n",
    "\n",
    "# list all built-in keywords\n",
    "print(vars(__builtin__).keys())"
   ]
  },
  {
   "cell_type": "code",
   "execution_count": null,
   "metadata": {
    "tags": []
   },
   "outputs": [],
   "source": [
    "from pathlib import Path\n",
    "import os\n",
    "\n",
    "with open(\"C:\\\\gaminganywhere-0.8.0\\\\bin\\\\config\\\\server.mupen64plus.win32.conf\",'r') as fr:\n",
    "    slist = fr.readlines()\n",
    "\n",
    "print(slist)\n",
    "for check in slist:\n",
    "    \n",
    "    if \"=\" in check:\n",
    "        A = check.strip().split(\" = \")\n",
    "        print(A)\n",
    "        check = \" = \".join(A) + \"\\n\"\n",
    "    print(check)\n",
    "\n",
    "'''\n",
    "inclu = {}\n",
    "if 'include' in str(test_dic):\n",
    "    for k, v in test:\n",
    "        if 'include' in str(k):\n",
    "            inclu[k]=v\n",
    "            test_dic.pop(k)\n",
    "'''\n",
    "'''\n",
    "slist[0] = \"# configuration for ABC\"+\"\\n\"\n",
    "new = \"\".join(slist)\n",
    "print(new)\n",
    "with open(\"server.ABC.conf\",'w') as fw:\n",
    "    fw.write(new)\n",
    "'''"
   ]
  },
  {
   "cell_type": "code",
   "execution_count": null,
   "metadata": {
    "tags": []
   },
   "outputs": [],
   "source": [
    "A = {\"1\": 11, \"2\": 22 }\n",
    "print(A.items())\n",
    "for k, v in A.items() :\n",
    "    print(k)\n",
    "    print(v)"
   ]
  },
  {
   "cell_type": "code",
   "execution_count": null,
   "metadata": {
    "tags": []
   },
   "outputs": [],
   "source": [
    "from pathlib import Path\n",
    "import os\n",
    "configpath = \"C:\\\\gaminganywhere-0.8.0\\\\bin\\\\config\\\\\"\n",
    "A = \"C:\\\\Users\\\\RD\\\\Desktop\\\\broker\\\\server\"\n",
    "os.chdir(A)\n",
    "R = Path.cwd() / 'server.periodic.conf'\n",
    "RR = R.read_text()\n",
    "with open(A+\"\\\\ABC.conf\", 'x') as fx:\n",
    "    fx.write(RR)\n",
    "    fx.seek(0,0)\n",
    "    fx.write(\"# configuration for ABC\"+\"\\n\")\n",
    "\n",
    "print(RR)"
   ]
  },
  {
   "cell_type": "code",
   "execution_count": null,
   "metadata": {
    "tags": []
   },
   "outputs": [],
   "source": [
    "A = {'A': 123, 'B':3423}\n",
    "B = A.values()\n",
    "C = 'omx-camera-flip-horizon = false\\n'\n",
    "'''\n",
    "for v in A.values():\n",
    "    print(v)\n",
    "'''\n",
    "D = C.strip(\"#\")\n",
    "D = \"# \"+ D\n",
    "E = C.split()\n",
    "E[2] = 'true'\n",
    "E = ' '.join(E) + '\\n'\n",
    "print(D)\n",
    "print(E)"
   ]
  },
  {
   "cell_type": "code",
   "execution_count": null,
   "metadata": {},
   "outputs": [],
   "source": [
    "import threading\n",
    "import time\n",
    "\n",
    "def job():\n",
    "    for i in range(5):\n",
    "        print(\"Child thread:\", i, threading.current_thread().ident)\n",
    "        time.sleep(1)\n",
    "\n",
    "t = threading.Thread(target = job)\n",
    "t.setDaemon(True)\n",
    "t.start()\n",
    "\n",
    "# 主執行緒繼續執行自己的工作\n",
    "for i in range(3):\n",
    "    print(\"Main thread:\", i,threading.current_thread().ident)\n",
    "    time.sleep(1)\n",
    "\n",
    "\n",
    "\n",
    "print(\"Done.\")\n"
   ]
  },
  {
   "cell_type": "code",
   "execution_count": null,
   "metadata": {},
   "outputs": [],
   "source": [
    "import threading\n",
    "class ABC(threading.Thread):\n",
    "    def __init__(self, arg):\n",
    "        threading.Thread.__init__(self)\n",
    "        self.arg = arg\n",
    "    def A(self):\n",
    "        for i in range(10):\n",
    "            print(\"A\" + f\"{i}\")\n",
    "    def B(self):\n",
    "        for i in range(10):\n",
    "            print(\"\\t\"+\"B\"+ f\"{i}\")    \n",
    "    def run(self):\n",
    "        if self.arg == \"p\":\n",
    "            t = self.A()\n",
    "        else:\n",
    "            t = self.B()\n",
    "\n",
    "AAA = ABC(\"p\")\n",
    "BBB = ABC(\"g\")\n",
    "AAA.start()\n",
    "BBB.start()\n",
    "AAA.join()\n",
    "BBB.join()\n"
   ]
  },
  {
   "cell_type": "code",
   "execution_count": null,
   "metadata": {},
   "outputs": [],
   "source": [
    "def QQQ():\n",
    "    A = 1\n",
    "    B = 2\n",
    "    return [A, B]\n",
    "[C, D] = QQQ()\n",
    "print(C, D)"
   ]
  },
  {
   "cell_type": "code",
   "execution_count": null,
   "metadata": {},
   "outputs": [],
   "source": [
    "print(bytes(''.encode()))\n",
    "print(''.encode())"
   ]
  },
  {
   "cell_type": "code",
   "execution_count": null,
   "metadata": {},
   "outputs": [],
   "source": [
    "from zipfile import ZipFile\n",
    "\n",
    "with ZipFile (\"ABC.zip\", 'r')as zip:\n",
    "    line = zip.read()\n",
    "    print(line)"
   ]
  },
  {
   "cell_type": "code",
   "execution_count": null,
   "metadata": {},
   "outputs": [],
   "source": [
    "import threading\n",
    "import time\n",
    "from queue import Queue\n",
    "def job(l,q):\n",
    "    for i in range (len(l)):\n",
    "        l[i] = l[i]**2\n",
    "    q.put(l)\n",
    "def multithreading():\n",
    "    q =Queue()\n",
    "    threads = []\n",
    "    data = [[1,2,3],[3,4,5],[4,4,4],[5,5,5]]\n",
    "    for i in range(4):\n",
    "        t = threading.Thread(target=job,args=(data[i],q))\n",
    "        t.start()\n",
    "        threads.append(t)\n",
    "    for thread in threads:\n",
    "        thread.join()\n",
    "    results = []\n",
    "    for _ in range(4):\n",
    "        results.append(q.get())\n",
    "    print(results)\n",
    "multithreading()"
   ]
  },
  {
   "cell_type": "code",
   "execution_count": null,
   "metadata": {
    "tags": []
   },
   "outputs": [],
   "source": [
    "import psutil\n",
    "# print(psutil.pid_exists('123'))\n",
    "\n"
   ]
  },
  {
   "cell_type": "code",
   "execution_count": null,
   "metadata": {},
   "outputs": [],
   "source": [
    "class A:\n",
    "    def AA(self):\n",
    "        print(\"AA\")\n",
    "\n",
    "class B:\n",
    "    def BB(self):\n",
    "        print(\"BB\")\n",
    "    @classmethod\n",
    "    def AB(cls):\n",
    "        print(\"AB\")\n",
    "        cls().BB()\n",
    "B.AB()"
   ]
  },
  {
   "cell_type": "code",
   "execution_count": null,
   "metadata": {},
   "outputs": [],
   "source": [
    "class A:\n",
    "    def __init__(self, a):\n",
    "        self.a = a\n",
    "    def AA(self):\n",
    "        if self.a == \"A\":\n",
    "            print(\"AA\")\n",
    "            return \"A\"\n",
    "        else:\n",
    "            print(\"BB\")\n",
    "\n",
    "AAA = A(\"A\").AA()\n",
    "BB = A(\"B\").AA()\n",
    "A(\"B\").AA()\n",
    "print(BB)"
   ]
  },
  {
   "cell_type": "code",
   "execution_count": null,
   "metadata": {
    "tags": []
   },
   "outputs": [],
   "source": [
    "import subprocess\n",
    "cmd = \"TASKLIST\", \"/FI\", \"imagename eq ga-server-periodic.exe\"\n",
    "tasks = subprocess.check_output(cmd).decode('big5').split()\n",
    "#.split(\"\\r\\n\")\n",
    "\n",
    "if \"ga-server-periodic.exe\" in tasks:\n",
    "    print(\"!!!\")\n",
    "print(tasks)\n"
   ]
  },
  {
   "cell_type": "code",
   "execution_count": null,
   "metadata": {},
   "outputs": [],
   "source": [
    "TASKLIST /FI \"imagename eq ga-server-periodic.exe\""
   ]
  },
  {
   "cell_type": "code",
   "execution_count": null,
   "metadata": {},
   "outputs": [],
   "source": [
    "import winrm\n",
    "\n",
    "_account = {\"192.168.43.196\":\"RD\"}\n",
    "_pwd = {'RD':'Aa123456'}\n",
    "ip = \"192.168.43.196\"\n",
    "s = winrm.Session(f\"{ip}\",auth=(_account[ip] , _pwd[_account[ip]] ))\n",
    "r = s.run_cmd('ipconfig')\n",
    "print(r.std_out)"
   ]
  },
  {
   "cell_type": "code",
   "execution_count": null,
   "metadata": {
    "tags": [
     "outputPrepend"
    ]
   },
   "outputs": [],
   "source": [
    " with open (\"Screen Shot 2020-10-24 at 11.01.26 AM.zip\", 'rb')as rb:\n",
    "     while True:\n",
    "         data = rb.read(1024)\n",
    "         print(data)\n",
    "         if not data:\n",
    "             break"
   ]
  },
  {
   "cell_type": "code",
   "execution_count": null,
   "metadata": {},
   "outputs": [],
   "source": [
    "import ipaddress\n",
    "net = ipaddress.ip_network('192.168.43.0/24')\n",
    "for i in net.hosts():\n",
    "    print(i)\n"
   ]
  },
  {
   "cell_type": "code",
   "execution_count": null,
   "metadata": {},
   "outputs": [],
   "source": [
    "import paramiko\n",
    "ssh_client = paramiko.SSHClient()\n",
    "ssh_client.set_missing_host_key_policy(paramiko.AutoAddPolicy())\n",
    "hostname = socket.gethostname()\n",
    "IPadrr = socket.gethostbyname(hostname)\n",
    "user = 'RD'\n",
    "password = 'Aa123456'\n",
    "ssh_client.connect(IPadrr, 22, user, password)\n",
    "\n",
    "std_in, std_out, std_err = ssh_client.exec_command('ipconfig')\n",
    "res = std_out.read()\n",
    "print(res.decode('big5'))\n",
    "ssh_client.close()\n"
   ]
  },
  {
   "cell_type": "code",
   "execution_count": null,
   "metadata": {},
   "outputs": [],
   "source": [
    "import paramiko\n",
    "\n",
    "# 使用者名稱和密碼\n",
    "hostname = socket.gethostname()\n",
    "IPadrr = socket.gethostbyname(hostname)\n",
    "user = 'RD'\n",
    "password = 'Aa123456'\n",
    "transport = paramiko.Transport((IPadrr, 22))\n",
    "transport.connect(username=user, password=password)\n",
    "\n",
    "sftp = paramiko.SFTPClient.from_transport(transport)\n",
    "\n",
    "# 上傳檔案\n",
    "sftp.put(\"C:\\\\Users\\\\RD\\\\Desktop\\\\xonotic-0.8.2.zip\", 'C:\\\\Users\\\\RD\\\\Desktop\\\\broker\\\\server\\\\xonotic-0.8.2.zip')  \n"
   ]
  },
  {
   "cell_type": "code",
   "execution_count": null,
   "metadata": {},
   "outputs": [],
   "source": [
    "class SftpClient:\n",
    "\n",
    "    _connection = None\n",
    "\n",
    "    def __init__(self, host, port, username, password):\n",
    "        self.host = host\n",
    "        self.port = port\n",
    "        self.username = username\n",
    "        self.password = password\n",
    "\n",
    "        self.create_connection(self.host, self.port,\n",
    "                               self.username, self.password)\n",
    "\n",
    "    @classmethod\n",
    "    def create_connection(cls, host, port, username, password):\n",
    "\n",
    "        transport = Transport(sock=(host, port))\n",
    "        transport.connect(username=username, password=password)\n",
    "        cls._connection = SFTPClient.from_transport(transport)\n",
    "\n",
    "    @staticmethod\n",
    "    def uploading_info(uploaded_file_size, total_file_size):\n",
    "\n",
    "        logging.info('uploaded_file_size : {} total_file_size : {}'.\n",
    "                     format(uploaded_file_size, total_file_size))\n",
    "\n",
    "    def upload(self, local_path, remote_path):\n",
    "\n",
    "        self._connection.put(localpath=local_path,\n",
    "                             remotepath=remote_path,\n",
    "                             callback=self.uploading_info,\n",
    "                             confirm=True)\n",
    "\n",
    "    def file_exists(self, remote_path):\n",
    "\n",
    "        try:\n",
    "            print('remote path : ', remote_path)\n",
    "            self._connection.stat(remote_path)\n",
    "        except IOError, e:\n",
    "            if e.errno == errno.ENOENT:\n",
    "                return False\n",
    "            raise\n",
    "        else:\n",
    "            return True\n",
    "\n",
    "    def download(self, remote_path, local_path, retry=5):\n",
    "\n",
    "        if self.file_exists(remote_path) or retry == 0:\n",
    "            self._connection.get(remote_path, local_path,\n",
    "                                 callback=None)\n",
    "        elif retry > 0:\n",
    "            time.sleep(5)\n",
    "            retry = retry - 1\n",
    "            self.download(remote_path, local_path, retry=retry)\n",
    "    def close(self):\n",
    "        self._connection.close()\n",
    "if __name__ == '__main__':\n",
    "\n",
    "    host = 'example.com'\n",
    "    port = 22\n",
    "    username = 'username'\n",
    "    password = 'password'\n",
    "\n",
    "    download_remote_path = 'outgoing/download.txt'\n",
    "    download_local_path = 'download.txt'\n",
    "\n",
    "    upload_local_path = 'upload.txt'\n",
    "    upload_remote_path = 'incoming/upload.txt'\n",
    "\n",
    "    client = SftpClient(host, port,\n",
    "                        username, password)\n",
    "\n",
    "    client.upload(upload_local_path,\n",
    "                  upload_remote_path)\n",
    "\n",
    "    client.download(download_remote_path,\n",
    "                    download_local_path)\n",
    "    client.close()"
   ]
  },
  {
   "cell_type": "code",
   "execution_count": 2,
   "metadata": {},
   "outputs": [
    {
     "output_type": "stream",
     "name": "stdout",
     "text": [
      "9.248\n"
     ]
    }
   ],
   "source": [
    "def size_convert(bytes):\n",
    "    BB = float(bytes)\n",
    "    KB = float(1024)\n",
    "    MB = float(KB ** 2)\n",
    "    GB = float(KB ** 3)\n",
    "\n",
    "    if KB <= BB < MB:\n",
    "      return round(BB/KB, 3)\n",
    "    elif MB <= BB < GB:\n",
    "      return round(BB/MB, 3)\n",
    "    elif GB <= BB:\n",
    "      return round(BB/GB, 3)\n",
    "    else:\n",
    "      return BB\n",
    "print(size_convert(9930434211))"
   ]
  },
  {
   "cell_type": "code",
   "execution_count": null,
   "metadata": {},
   "outputs": [],
   "source": []
  }
 ]
}