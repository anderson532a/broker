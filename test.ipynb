{
 "metadata": {
  "language_info": {
   "codemirror_mode": {
    "name": "ipython",
    "version": 3
   },
   "file_extension": ".py",
   "mimetype": "text/x-python",
   "name": "python",
   "nbconvert_exporter": "python",
   "pygments_lexer": "ipython3",
   "version": "3.8.5-final"
  },
  "orig_nbformat": 2,
  "kernelspec": {
   "name": "python_defaultSpec_1599717381436",
   "display_name": "Python 3.8.5 32-bit ('env': venv)"
  }
 },
 "nbformat": 4,
 "nbformat_minor": 2,
 "cells": [
  {
   "cell_type": "code",
   "execution_count": null,
   "metadata": {},
   "outputs": [],
   "source": [
    "import logging\n",
    "import getpass\n",
    "import datetime\n",
    "\n",
    "logger = logging.getLogger()\n",
    "\n",
    "show = logging.StreamHandler()\n",
    "formatter = logging.Formatter(\"%(asctime)s \"))\n",
    "dir_path = \"\"\n",
    "filename = \"\"\n",
    "\n"
   ]
  },
  {
   "cell_type": "code",
   "execution_count": null,
   "metadata": {},
   "outputs": [],
   "source": [
    "import socketserver\n",
    "import socket\n",
    "\n",
    "class Handler(socketserver.BaseRequestHandler):\n",
    "    def handle(self):\n",
    "        self.data = self.request.recv(1024).strip()\n",
    "        print('{} wrote:'.format(self.client_address[0]))\n",
    "        print(f\"{self.data}\")\n",
    "        self.request.sendall(self.data.upper())\n",
    "\n",
    "\n",
    "HOST = 'localhost'\n",
    "PORT =  9999\n",
    "server = socketserver.TCPServer((HOST, PORT), Handler)\n",
    "server.serve_forever()\n",
    "\n",
    "\n",
    "\n",
    "\n"
   ]
  },
  {
   "cell_type": "code",
   "execution_count": null,
   "metadata": {},
   "outputs": [],
   "source": [
    "import socket\n",
    "import time\n",
    "\n",
    "class client_socket:\n",
    "  def __init__(self):\n",
    "    PORT = 9999\n",
    "    self.host = socket.gethostname()\n",
    "    self.client = socket.socket(socket.AF_INET, socket.SOCK_STREAM)\n",
    "    self.client.connect((self.host, PORT))\n",
    "\n",
    "\n",
    "  def repeat(self, msg):\n",
    "    self.msg = msg\n",
    "    CLMES = f\"{self.msg}\"\n",
    "    self.client.sendall(CLMES.encode('utf-8'))\n",
    "    rece = self.client.recv(1024)\n",
    "    print(str(rece, encoding='utf-8')\n",
    "\n",
    "A = client_socket()\n",
    "for i in range(20):\n",
    "    A.repeat(i)\n",
    "    time.sleep(1)\n",
    "    i += 1\n",
    "    \n"
   ]
  },
  {
   "cell_type": "code",
   "execution_count": null,
   "metadata": {},
   "outputs": [],
   "source": []
  }
 ]
}