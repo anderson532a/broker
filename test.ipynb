{
 "metadata": {
  "language_info": {
   "codemirror_mode": {
    "name": "ipython",
    "version": 3
   },
   "file_extension": ".py",
   "mimetype": "text/x-python",
   "name": "python",
   "nbconvert_exporter": "python",
   "pygments_lexer": "ipython3",
   "version": "3.8.5-final"
  },
  "orig_nbformat": 2,
  "kernelspec": {
   "name": "Python 3.8.5 32-bit ('env')",
   "display_name": "Python 3.8.5 32-bit ('env')",
   "metadata": {
    "interpreter": {
     "hash": "51320aac29360921745e54246e16a0ef501f9c8fbfcf0178a0c1015906c54a80"
    }
   }
  }
 },
 "nbformat": 4,
 "nbformat_minor": 2,
 "cells": [
  {
   "cell_type": "code",
   "execution_count": null,
   "metadata": {
    "tags": []
   },
   "outputs": [],
   "source": [
    "import logging\n",
    "import getpass\n",
    "import datetime\n",
    "logging.basicConfig(level=logging.DEBUG, format=\"%(asctime)s %(levelname)s:%(message)s\")\n",
    "dir_path = \"\"\n",
    "filename = \"\"\n",
    "logging.info(\"213113\")\n",
    "logging.warning(\"213113\")"
   ]
  },
  {
   "cell_type": "code",
   "execution_count": null,
   "metadata": {},
   "outputs": [],
   "source": [
    "import socketserver\n",
    "import socket\n",
    "\n",
    "class Handler(socketserver.BaseRequestHandler):\n",
    "    def handle(self):\n",
    "        self.data = self.request.recv(1024).strip()\n",
    "        print('{} wrote:'.format(self.client_address[0]))\n",
    "        print(f\"{self.data}\")\n",
    "        self.request.sendall(self.data.upper())\n",
    "\n",
    "\n",
    "HOST = 'localhost'\n",
    "PORT =  9999\n",
    "server = socketserver.TCPServer((HOST, PORT), Handler)\n",
    "server.serve_forever()\n",
    "\n",
    "\n",
    "\n",
    "\n"
   ]
  },
  {
   "cell_type": "code",
   "execution_count": null,
   "metadata": {},
   "outputs": [],
   "source": [
    "import socket\n",
    "import time\n",
    "\n",
    "class client_socket:\n",
    "  def __init__(self):\n",
    "    PORT = 9999\n",
    "    self.host = socket.gethostname()\n",
    "    self.client = socket.socket(socket.AF_INET, socket.SOCK_STREAM)\n",
    "    self.client.connect((self.host, PORT))\n",
    "\n",
    "\n",
    "  def repeat(self, msg):\n",
    "    self.msg = msg\n",
    "    CLMES = f\"{self.msg}\"\n",
    "    self.client.sendall(CLMES.encode('utf-8'))\n",
    "    rece = self.client.recv(1024)\n",
    "    print(str(rece, encoding='utf-8')\n",
    "\n",
    "A = client_socket()\n",
    "for i in range(20):\n",
    "    A.repeat(i)\n",
    "    time.sleep(1)\n",
    "    i += 1\n",
    "    \n"
   ]
  },
  {
   "cell_type": "code",
   "execution_count": null,
   "metadata": {
    "tags": []
   },
   "outputs": [],
   "source": [
    "a = set()\n",
    "print(f\"{len(a)}\")"
   ]
  },
  {
   "cell_type": "code",
   "execution_count": null,
   "metadata": {
    "tags": []
   },
   "outputs": [],
   "source": [
    "b = ()\n",
    "c = \"R\"\n",
    "d =  (\"1234\")\n",
    "print(d, len(d), type(d))"
   ]
  },
  {
   "cell_type": "code",
   "execution_count": null,
   "metadata": {
    "tags": []
   },
   "outputs": [],
   "source": [
    "import json\n",
    "diccc = {\"q\":1, \"c\":2, \"e\":4}\n",
    "jsdumps = json.dumps(diccc)\n",
    "jsloads = json.loads(jsdumps)\n",
    "print(jsdumps , type(jsdumps))\n",
    "print(jsloads , type(jsloads))\n",
    "if 'q' and 'c' and 'e' in jsloads.keys():\n",
    "    print(True)\n",
    "print(jsloads.keys())\n"
   ]
  },
  {
   "cell_type": "code",
   "execution_count": null,
   "metadata": {
    "tags": []
   },
   "outputs": [],
   "source": [
    "from flask import jsonify\n",
    "import json\n",
    "diccc = {\"q\":1, \"c\":2, \"e\":4}\n",
    "print(json.dumps(diccc))\n",
    "print(jsonify(diccc))\n"
   ]
  },
  {
   "cell_type": "code",
   "execution_count": null,
   "metadata": {},
   "outputs": [],
   "source": [
    "  def repeat(self, msg):\n",
    "    self.msg = msg\n",
    "    CLMES = f\"{self.msg}\"\n",
    "    self.client.sendall(CLMES.encode('utf-8'))\n",
    "    rece = self.client.recv(1024)\n",
    "    print(str(rece, encoding='utf-8'))"
   ]
  },
  {
   "cell_type": "code",
   "execution_count": null,
   "metadata": {
    "tags": []
   },
   "outputs": [],
   "source": [
    "server_ip = (\"192.168.43.196\",)\n",
    "server_status = {server_ip[0]:False}\n",
    "print(type(server_ip),type(server_status))\n",
    "print(server_status[\"192.168.43.196\"])"
   ]
  },
  {
   "cell_type": "code",
   "execution_count": null,
   "metadata": {
    "tags": []
   },
   "outputs": [],
   "source": [
    "server_ip = (\"192.168.43.196\", \"123\", \"45356\")\n",
    "for i in server_ip:\n",
    "\n",
    "    print(i)"
   ]
  },
  {
   "cell_type": "code",
   "execution_count": null,
   "metadata": {
    "tags": []
   },
   "outputs": [],
   "source": [
    "# list all built-in keywords\n",
    "import keyword\n",
    "print(keyword.kwlist)\n",
    "\n",
    "# list all built-in keywords\n",
    "print(vars(__builtin__).keys())"
   ]
  },
  {
   "cell_type": "code",
   "execution_count": null,
   "metadata": {
    "tags": []
   },
   "outputs": [],
   "source": [
    "from pathlib import Path\n",
    "import os\n",
    "\n",
    "with open(\"C:\\\\gaminganywhere-0.8.0\\\\bin\\\\config\\\\server.mupen64plus.win32.conf\",'r') as fr:\n",
    "    slist = fr.readlines()\n",
    "\n",
    "print(slist)\n",
    "for check in slist:\n",
    "    if \"=\" in check:\n",
    "        A = check.strip().split(\" = \")\n",
    "        print(A)\n",
    "        if 'include' in A[0]:\n",
    "            print(\"ooo\")\n",
    "        check = \" = \".join(A) + \"\\n\"\n",
    "    print(check)\n",
    "\n",
    "'''\n",
    "slist[0] = \"# configuration for ABC\"+\"\\n\"\n",
    "new = \"\".join(slist)\n",
    "print(new)\n",
    "with open(\"server.ABC.conf\",'w') as fw:\n",
    "    fw.write(new)\n",
    "'''"
   ]
  },
  {
   "cell_type": "code",
   "execution_count": null,
   "metadata": {
    "tags": []
   },
   "outputs": [],
   "source": [
    "A = {\"1\": 11, \"2\": 22 }\n",
    "print(A.items())\n",
    "for k, v in A.items() :\n",
    "    print(k)\n",
    "    print(v)"
   ]
  },
  {
   "cell_type": "code",
   "execution_count": null,
   "metadata": {},
   "outputs": [],
   "source": [
    "from pathlib import Path\n",
    "import os\n",
    "configpath = \"C:\\\\gaminganywhere-0.8.0\\\\bin\\\\config\\\\\"\n",
    "os.chdir(configpath)\n",
    "Path.cwd()\n",
    "with open(\"ABC.conf\" ,'x') as fr:\n",
    "    pass"
   ]
  },
  {
   "cell_type": "code",
   "execution_count": 49,
   "metadata": {
    "tags": []
   },
   "outputs": [
    {
     "output_type": "stream",
     "name": "stdout",
     "text": "{'include = common/audio-lame.conf': True, '123': 23, 'game-exe': 'd:\\\\smallgame\\\\N64\\\\mupen64plus\\\\mupen64plus.exe'}\ndict_keys(['include = common/audio-lame.conf', '123', 'game-exe'])\ndict_items([('include = common/audio-lame.conf', True), ('123', 23), ('game-exe', 'd:\\\\smallgame\\\\N64\\\\mupen64plus\\\\mupen64plus.exe')])\n[('include = common/audio-lame.conf', True), ('123', 23), ('game-exe', 'd:\\\\smallgame\\\\N64\\\\mupen64plus\\\\mupen64plus.exe')]\nTrue\n{'include = common/audio-lame.conf': True}\n{'123': 23, 'game-exe': 'd:\\\\smallgame\\\\N64\\\\mupen64plus\\\\mupen64plus.exe'}\n"
    }
   ],
   "source": [
    "test_dic = {'include = common/audio-lame.conf':True, '123': 23,'game-exe':'d:\\\\smallgame\\\\N64\\\\mupen64plus\\\\mupen64plus.exe'}\n",
    "test = test_dic.copy().items()\n",
    "print(str(test_dic))\n",
    "print(test_dic.keys())\n",
    "print(test)\n",
    "print(L)\n",
    "print('include' in str(test_dic.keys()))\n",
    "inclu = {}\n",
    "if 'include' in str(test_dic):\n",
    "    for k, v in test:\n",
    "        if 'include' in str(k):\n",
    "            inclu[k]=v\n",
    "            test_dic.pop(k)\n",
    "print(inclu)\n",
    "print(test_dic)\n",
    "\n"
   ]
  },
  {
   "cell_type": "code",
   "execution_count": null,
   "metadata": {},
   "outputs": [],
   "source": []
  }
 ]
}