{
 "metadata": {
  "language_info": {
   "codemirror_mode": {
    "name": "ipython",
    "version": 3
   },
   "file_extension": ".py",
   "mimetype": "text/x-python",
   "name": "python",
   "nbconvert_exporter": "python",
   "pygments_lexer": "ipython3",
   "version": "3.8.5-final"
  },
  "orig_nbformat": 2,
  "kernelspec": {
   "name": "Python 3.8.5 32-bit ('env')",
   "display_name": "Python 3.8.5 32-bit ('env')",
   "metadata": {
    "interpreter": {
     "hash": "51320aac29360921745e54246e16a0ef501f9c8fbfcf0178a0c1015906c54a80"
    }
   }
  }
 },
 "nbformat": 4,
 "nbformat_minor": 2,
 "cells": [
  {
   "cell_type": "code",
   "execution_count": null,
   "metadata": {
    "tags": []
   },
   "outputs": [],
   "source": [
    "import logging\n",
    "import getpass\n",
    "import datetime\n",
    "logging.basicConfig(level=logging.DEBUG, format=\"%(asctime)s %(levelname)s:%(message)s\")\n",
    "dir_path = \"\"\n",
    "filename = \"\"\n",
    "logging.info(\"213113\")\n",
    "logging.warning(\"213113\")"
   ]
  },
  {
   "cell_type": "code",
   "execution_count": null,
   "metadata": {},
   "outputs": [],
   "source": [
    "import socketserver\n",
    "import socket\n",
    "\n",
    "class Handler(socketserver.BaseRequestHandler):\n",
    "    def handle(self):\n",
    "        self.data = self.request.recv(1024).strip()\n",
    "        print('{} wrote:'.format(self.client_address[0]))\n",
    "        print(f\"{self.data}\")\n",
    "        self.request.sendall(self.data.upper())\n",
    "\n",
    "\n",
    "HOST = 'localhost'\n",
    "PORT =  9999\n",
    "server = socketserver.TCPServer((HOST, PORT), Handler)\n",
    "server.serve_forever()\n",
    "\n",
    "\n",
    "\n",
    "\n"
   ]
  },
  {
   "cell_type": "code",
   "execution_count": null,
   "metadata": {},
   "outputs": [],
   "source": [
    "import socket\n",
    "import time\n",
    "\n",
    "class client_socket:\n",
    "  def __init__(self):\n",
    "    PORT = 9999\n",
    "    self.host = socket.gethostname()\n",
    "    self.client = socket.socket(socket.AF_INET, socket.SOCK_STREAM)\n",
    "    self.client.connect((self.host, PORT))\n",
    "\n",
    "\n",
    "  def repeat(self, msg):\n",
    "    self.msg = msg\n",
    "    CLMES = f\"{self.msg}\"\n",
    "    self.client.sendall(CLMES.encode('utf-8'))\n",
    "    rece = self.client.recv(1024)\n",
    "    print(str(rece, encoding='utf-8')\n",
    "\n",
    "A = client_socket()\n",
    "for i in range(20):\n",
    "    A.repeat(i)\n",
    "    time.sleep(1)\n",
    "    i += 1\n",
    "    \n"
   ]
  },
  {
   "cell_type": "code",
   "execution_count": null,
   "metadata": {
    "tags": []
   },
   "outputs": [],
   "source": [
    "a = set()\n",
    "print(f\"{len(a)}\")"
   ]
  },
  {
   "cell_type": "code",
   "execution_count": null,
   "metadata": {
    "tags": []
   },
   "outputs": [],
   "source": [
    "b = ()\n",
    "c = \"R\"\n",
    "d =  (\"1234\")\n",
    "print(d, len(d), type(d))"
   ]
  },
  {
   "cell_type": "code",
   "execution_count": null,
   "metadata": {
    "tags": []
   },
   "outputs": [],
   "source": [
    "import json\n",
    "diccc = {\"q\":1, \"c\":2, \"e\":4}\n",
    "jsdumps = json.dumps(diccc)\n",
    "jsloads = json.loads(jsdumps)\n",
    "print(jsdumps , type(jsdumps))\n",
    "print(jsloads , type(jsloads))\n",
    "if 'q' and 'c' and 'e' in jsloads.keys():\n",
    "    print(True)\n",
    "print(jsloads.keys())\n"
   ]
  },
  {
   "cell_type": "code",
   "execution_count": null,
   "metadata": {
    "tags": []
   },
   "outputs": [],
   "source": [
    "from flask import jsonify\n",
    "import json\n",
    "diccc = {\"q\":1, \"c\":2, \"e\":4}\n",
    "print(json.dumps(diccc))\n",
    "print(jsonify(diccc))\n"
   ]
  },
  {
   "cell_type": "code",
   "execution_count": null,
   "metadata": {},
   "outputs": [],
   "source": [
    "  def repeat(self, msg):\n",
    "    self.msg = msg\n",
    "    CLMES = f\"{self.msg}\"\n",
    "    self.client.sendall(CLMES.encode('utf-8'))\n",
    "    rece = self.client.recv(1024)\n",
    "    print(str(rece, encoding='utf-8'))"
   ]
  },
  {
   "cell_type": "code",
   "execution_count": null,
   "metadata": {
    "tags": []
   },
   "outputs": [],
   "source": [
    "server_ip = (\"192.168.43.196\",)\n",
    "server_status = {server_ip[0]:False}\n",
    "print(type(server_ip),type(server_status))\n",
    "print(server_status[\"192.168.43.196\"])"
   ]
  },
  {
   "cell_type": "code",
   "execution_count": null,
   "metadata": {
    "tags": []
   },
   "outputs": [],
   "source": [
    "server_ip = (\"192.168.43.196\", \"123\", \"45356\")\n",
    "for i in server_ip:\n",
    "\n",
    "    print(i)"
   ]
  },
  {
   "cell_type": "code",
   "execution_count": null,
   "metadata": {
    "tags": []
   },
   "outputs": [],
   "source": [
    "# list all built-in keywords\n",
    "import keyword\n",
    "print(keyword.kwlist)\n",
    "\n",
    "# list all built-in keywords\n",
    "print(vars(__builtin__).keys())"
   ]
  },
  {
   "cell_type": "code",
   "execution_count": null,
   "metadata": {
    "tags": []
   },
   "outputs": [],
   "source": [
    "from pathlib import Path\n",
    "import os\n",
    "\n",
    "with open(\"C:\\\\gaminganywhere-0.8.0\\\\bin\\\\config\\\\server.mupen64plus.win32.conf\",'r') as fr:\n",
    "    slist = fr.readlines()\n",
    "\n",
    "print(slist)\n",
    "for check in slist:\n",
    "    \n",
    "    if \"=\" in check:\n",
    "        A = check.strip().split(\" = \")\n",
    "        print(A)\n",
    "        check = \" = \".join(A) + \"\\n\"\n",
    "    print(check)\n",
    "\n",
    "'''\n",
    "inclu = {}\n",
    "if 'include' in str(test_dic):\n",
    "    for k, v in test:\n",
    "        if 'include' in str(k):\n",
    "            inclu[k]=v\n",
    "            test_dic.pop(k)\n",
    "'''\n",
    "'''\n",
    "slist[0] = \"# configuration for ABC\"+\"\\n\"\n",
    "new = \"\".join(slist)\n",
    "print(new)\n",
    "with open(\"server.ABC.conf\",'w') as fw:\n",
    "    fw.write(new)\n",
    "'''"
   ]
  },
  {
   "cell_type": "code",
   "execution_count": null,
   "metadata": {
    "tags": []
   },
   "outputs": [],
   "source": [
    "A = {\"1\": 11, \"2\": 22 }\n",
    "print(A.items())\n",
    "for k, v in A.items() :\n",
    "    print(k)\n",
    "    print(v)"
   ]
  },
  {
   "cell_type": "code",
   "execution_count": null,
   "metadata": {
    "tags": []
   },
   "outputs": [],
   "source": [
    "from pathlib import Path\n",
    "import os\n",
    "configpath = \"C:\\\\gaminganywhere-0.8.0\\\\bin\\\\config\\\\\"\n",
    "A = \"C:\\\\Users\\\\RD\\\\Desktop\\\\broker\\\\server\"\n",
    "os.chdir(A)\n",
    "R = Path.cwd() / 'server.periodic.conf'\n",
    "RR = R.read_text()\n",
    "with open(A+\"\\\\ABC.conf\", 'x') as fx:\n",
    "    fx.write(RR)\n",
    "    fx.seek(0,0)\n",
    "    fx.write(\"# configuration for ABC\"+\"\\n\")\n",
    "\n",
    "print(RR)"
   ]
  },
  {
   "cell_type": "code",
   "execution_count": null,
   "metadata": {
    "tags": []
   },
   "outputs": [],
   "source": [
    "test_dic = {'include = common/audio-lame.conf':True, '123': 23,'game-exe':'d:\\\\smallgame\\\\N64\\\\mupen64plus\\\\mupen64plus.exe'}\n",
    "test = test_dic.copy().items()\n",
    "print(str(test_dic))\n",
    "print(test_dic.keys())\n",
    "print(test)\n",
    "print(L)\n",
    "print('include' in str(test_dic.keys()))\n",
    "inclu = {}\n",
    "if 'include' in str(test_dic):\n",
    "    for k, v in test:\n",
    "        if 'include' in str(k):\n",
    "            inclu[k]=v\n",
    "            test_dic.pop(k)\n",
    "print(inclu)\n",
    "print(test_dic)\n",
    "\n"
   ]
  },
  {
   "cell_type": "code",
   "execution_count": null,
   "metadata": {
    "tags": []
   },
   "outputs": [],
   "source": [
    "def ABC(*test1, **test2):\n",
    "    print(test2)\n",
    "    print(f\"ewqewq {test1}\")\n",
    "    print(', '.join(i for i in test1))\n",
    "A = 2\n",
    "test_dic = {'include = common/audio-lame.conf':True, '123': 23,'game-exe':'d:\\\\smallgame\\\\N64\\\\mupen64plus\\\\mupen64plus.exe'}\n",
    "B = {\"B\":1}\n",
    "C = {\"C\":3}\n",
    "D = '1','2','3','65'\n",
    "E = \"*\"\n",
    "if C != {}:\n",
    "    print(C)\n",
    "if B != {}:\n",
    "    print(B)\n",
    "ABC(*D, **{\"A\":A})"
   ]
  },
  {
   "cell_type": "code",
   "execution_count": null,
   "metadata": {
    "tags": []
   },
   "outputs": [],
   "source": [
    "A = {'A': 123}\n",
    "B = A.values()\n",
    "print(A.items())\n",
    "print(B)"
   ]
  },
  {
   "cell_type": "code",
   "execution_count": null,
   "metadata": {},
   "outputs": [],
   "source": [
    "import threading\n",
    "import time\n",
    "\n",
    "def job():\n",
    "    for i in range(5):\n",
    "        print(\"Child thread:\", i, threading.current_thread().ident)\n",
    "        time.sleep(1)\n",
    "\n",
    "t = threading.Thread(target = job)\n",
    "t.setDaemon(True)\n",
    "t.start()\n",
    "\n",
    "# 主執行緒繼續執行自己的工作\n",
    "for i in range(3):\n",
    "    print(\"Main thread:\", i,threading.current_thread().ident)\n",
    "    time.sleep(1)\n",
    "\n",
    "\n",
    "\n",
    "print(\"Done.\")\n"
   ]
  },
  {
   "cell_type": "code",
   "execution_count": 32,
   "metadata": {},
   "outputs": [
    {
     "output_type": "stream",
     "name": "stdout",
     "text": [
      "A0\n",
      "A1\n",
      "A2\n",
      "A3\n",
      "A4\n",
      "A5\n",
      "A6\n",
      "A7\n",
      "A8\n",
      "A9\n",
      "\tB0\n",
      "\tB1\n",
      "\tB2\n",
      "\tB3\n",
      "\tB4\n",
      "\tB5\n",
      "\tB6\n",
      "\tB7\n",
      "\tB8\n",
      "\tB9\n"
     ]
    }
   ],
   "source": [
    "import threading\n",
    "class ABC:\n",
    "    def __init__(self,qq):\n",
    "        self.qq = qq\n",
    "    def A(self):\n",
    "        for i in range(10):\n",
    "            print(\"A\" + f\"{i}\")\n",
    "    def B(self):\n",
    "        for i in range(10):\n",
    "            print(\"\\t\"+\"B\"+ f\"{i}\")    \n",
    "    def childthread(self, W):\n",
    "        if W == \"p\":\n",
    "            self.T = threading.Thread(target = self.A)\n",
    "        else:\n",
    "            self.T = threading.Thread(target = self.B)\n",
    "        #self.T.setDaemon(True)\n",
    "        self.T.join()\n",
    "        self.T.start()\n",
    "    \n",
    "AAA = ABC(i)\n",
    "AAA.childthread(\"p\")\n",
    "AAA.childthread(\"g\")\n"
   ]
  },
  {
   "cell_type": "code",
   "execution_count": null,
   "metadata": {},
   "outputs": [],
   "source": [
    "def QQQ():\n",
    "    A = 1\n",
    "    B = 2\n",
    "    return [A, B]\n",
    "[C, D] = QQQ()\n",
    "print(C, D)"
   ]
  },
  {
   "cell_type": "code",
   "execution_count": null,
   "metadata": {},
   "outputs": [],
   "source": []
  }
 ]
}