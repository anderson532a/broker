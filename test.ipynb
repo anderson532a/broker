{
 "metadata": {
  "language_info": {
   "codemirror_mode": {
    "name": "ipython",
    "version": 3
   },
   "file_extension": ".py",
   "mimetype": "text/x-python",
   "name": "python",
   "nbconvert_exporter": "python",
   "pygments_lexer": "ipython3",
   "version": "3.8.5-final"
  },
  "orig_nbformat": 2,
  "kernelspec": {
   "name": "python_defaultSpec_1599802436104",
   "display_name": "Python 3.8.5 32-bit ('env': venv)"
  }
 },
 "nbformat": 4,
 "nbformat_minor": 2,
 "cells": [
  {
   "cell_type": "code",
   "execution_count": null,
   "metadata": {
    "tags": []
   },
   "outputs": [],
   "source": [
    "import logging\n",
    "import getpass\n",
    "import datetime\n",
    "logging.basicConfig(level=logging.DEBUG, format=\"%(asctime)s %(levelname)s:%(message)s\")\n",
    "dir_path = \"\"\n",
    "filename = \"\"\n",
    "logging.info(\"213113\")\n",
    "logging.warning(\"213113\")"
   ]
  },
  {
   "cell_type": "code",
   "execution_count": null,
   "metadata": {},
   "outputs": [],
   "source": [
    "import socketserver\n",
    "import socket\n",
    "\n",
    "class Handler(socketserver.BaseRequestHandler):\n",
    "    def handle(self):\n",
    "        self.data = self.request.recv(1024).strip()\n",
    "        print('{} wrote:'.format(self.client_address[0]))\n",
    "        print(f\"{self.data}\")\n",
    "        self.request.sendall(self.data.upper())\n",
    "\n",
    "\n",
    "HOST = 'localhost'\n",
    "PORT =  9999\n",
    "server = socketserver.TCPServer((HOST, PORT), Handler)\n",
    "server.serve_forever()\n",
    "\n",
    "\n",
    "\n",
    "\n"
   ]
  },
  {
   "cell_type": "code",
   "execution_count": null,
   "metadata": {},
   "outputs": [],
   "source": [
    "import socket\n",
    "import time\n",
    "\n",
    "class client_socket:\n",
    "  def __init__(self):\n",
    "    PORT = 9999\n",
    "    self.host = socket.gethostname()\n",
    "    self.client = socket.socket(socket.AF_INET, socket.SOCK_STREAM)\n",
    "    self.client.connect((self.host, PORT))\n",
    "\n",
    "\n",
    "  def repeat(self, msg):\n",
    "    self.msg = msg\n",
    "    CLMES = f\"{self.msg}\"\n",
    "    self.client.sendall(CLMES.encode('utf-8'))\n",
    "    rece = self.client.recv(1024)\n",
    "    print(str(rece, encoding='utf-8')\n",
    "\n",
    "A = client_socket()\n",
    "for i in range(20):\n",
    "    A.repeat(i)\n",
    "    time.sleep(1)\n",
    "    i += 1\n",
    "    \n"
   ]
  },
  {
   "cell_type": "code",
   "execution_count": null,
   "metadata": {
    "tags": []
   },
   "outputs": [],
   "source": [
    "a = set()\n",
    "print(f\"{len(a)}\")"
   ]
  },
  {
   "cell_type": "code",
   "execution_count": 29,
   "metadata": {
    "tags": []
   },
   "outputs": [
    {
     "output_type": "stream",
     "name": "stdout",
     "text": "1234 4 <class 'str'>\n"
    }
   ],
   "source": [
    "b = ()\n",
    "c = \"R\"\n",
    "d =  (\"1234\")\n",
    "print(d, len(d), type(d))"
   ]
  },
  {
   "cell_type": "code",
   "execution_count": null,
   "metadata": {
    "tags": []
   },
   "outputs": [],
   "source": [
    "import json\n",
    "diccc = {\"q\":1, \"c\":2, \"e\":4}\n",
    "jsdumps = json.dumps(diccc)\n",
    "jsloads = json.loads(jsdumps)\n",
    "print(jsdumps , type(jsdumps))\n",
    "print(jsloads , type(jsloads))\n",
    "if 'q' and 'c' and 'e' in jsloads.keys():\n",
    "    print(True)\n",
    "print(jsloads.keys())\n"
   ]
  },
  {
   "cell_type": "code",
   "execution_count": null,
   "metadata": {
    "tags": []
   },
   "outputs": [],
   "source": [
    "from flask import jsonify\n",
    "import json\n",
    "diccc = {\"q\":1, \"c\":2, \"e\":4}\n",
    "print(json.dumps(diccc))\n",
    "print(jsonify(diccc))\n"
   ]
  },
  {
   "cell_type": "code",
   "execution_count": null,
   "metadata": {},
   "outputs": [],
   "source": [
    "  def repeat(self, msg):\n",
    "    self.msg = msg\n",
    "    CLMES = f\"{self.msg}\"\n",
    "    self.client.sendall(CLMES.encode('utf-8'))\n",
    "    rece = self.client.recv(1024)\n",
    "    print(str(rece, encoding='utf-8'))"
   ]
  }
 ]
}